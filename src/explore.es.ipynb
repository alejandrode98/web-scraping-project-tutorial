{
    "cells": [
        {
            "cell_type": "markdown",
            "metadata": {},
            "source": [
                "# Explora aquí\n",
                "\n",
                "Se recomienda utilizar este cuaderno con fines de exploración."
            ]
        },
        {
            "cell_type": "code",
            "execution_count": 1,
            "metadata": {},
            "outputs": [],
            "source": [
                "import os\n",
                "from bs4 import BeautifulSoup\n",
                "import requests\n",
                "import time\n",
                "import sqlite3\n",
                "import matplotlib.pyplot as plt\n",
                "import seaborn as sns\n",
                "\n"
            ]
        },
        {
            "cell_type": "code",
            "execution_count": 4,
            "metadata": {},
            "outputs": [
                {
                    "data": {
                        "text/html": [
                            "<div>\n",
                            "<style scoped>\n",
                            "    .dataframe tbody tr th:only-of-type {\n",
                            "        vertical-align: middle;\n",
                            "    }\n",
                            "\n",
                            "    .dataframe tbody tr th {\n",
                            "        vertical-align: top;\n",
                            "    }\n",
                            "\n",
                            "    .dataframe thead th {\n",
                            "        text-align: right;\n",
                            "    }\n",
                            "</style>\n",
                            "<table border=\"1\" class=\"dataframe\">\n",
                            "  <thead>\n",
                            "    <tr style=\"text-align: right;\">\n",
                            "      <th></th>\n",
                            "      <th>Rank</th>\n",
                            "      <th>Song</th>\n",
                            "      <th>Artist(s)</th>\n",
                            "      <th>Streams (billions)</th>\n",
                            "      <th>Release date</th>\n",
                            "      <th>Ref.</th>\n",
                            "    </tr>\n",
                            "  </thead>\n",
                            "  <tbody>\n",
                            "    <tr>\n",
                            "      <th>0</th>\n",
                            "      <td>1</td>\n",
                            "      <td>\"Blinding Lights\"</td>\n",
                            "      <td>The Weeknd</td>\n",
                            "      <td>4.972</td>\n",
                            "      <td>29 November 2019</td>\n",
                            "      <td>[1]</td>\n",
                            "    </tr>\n",
                            "    <tr>\n",
                            "      <th>1</th>\n",
                            "      <td>2</td>\n",
                            "      <td>\"Shape of You\"</td>\n",
                            "      <td>Ed Sheeran</td>\n",
                            "      <td>4.501</td>\n",
                            "      <td>6 January 2017</td>\n",
                            "      <td>[2]</td>\n",
                            "    </tr>\n",
                            "    <tr>\n",
                            "      <th>2</th>\n",
                            "      <td>3</td>\n",
                            "      <td>\"Starboy\"</td>\n",
                            "      <td>The Weeknd and Daft Punk</td>\n",
                            "      <td>4.035</td>\n",
                            "      <td>21 September 2016</td>\n",
                            "      <td>[3]</td>\n",
                            "    </tr>\n",
                            "    <tr>\n",
                            "      <th>3</th>\n",
                            "      <td>4</td>\n",
                            "      <td>\"Someone You Loved\"</td>\n",
                            "      <td>Lewis Capaldi</td>\n",
                            "      <td>4.010</td>\n",
                            "      <td>8 November 2018</td>\n",
                            "      <td>[4]</td>\n",
                            "    </tr>\n",
                            "    <tr>\n",
                            "      <th>4</th>\n",
                            "      <td>5</td>\n",
                            "      <td>\"As It Was\"</td>\n",
                            "      <td>Harry Styles</td>\n",
                            "      <td>4.000</td>\n",
                            "      <td>1 April 2022</td>\n",
                            "      <td>[5]</td>\n",
                            "    </tr>\n",
                            "  </tbody>\n",
                            "</table>\n",
                            "</div>"
                        ],
                        "text/plain": [
                            "  Rank                 Song                 Artist(s) Streams (billions)  \\\n",
                            "0    1    \"Blinding Lights\"                The Weeknd              4.972   \n",
                            "1    2       \"Shape of You\"                Ed Sheeran              4.501   \n",
                            "2    3            \"Starboy\"  The Weeknd and Daft Punk              4.035   \n",
                            "3    4  \"Someone You Loved\"             Lewis Capaldi              4.010   \n",
                            "4    5          \"As It Was\"              Harry Styles              4.000   \n",
                            "\n",
                            "        Release date Ref.  \n",
                            "0   29 November 2019  [1]  \n",
                            "1     6 January 2017  [2]  \n",
                            "2  21 September 2016  [3]  \n",
                            "3    8 November 2018  [4]  \n",
                            "4       1 April 2022  [5]  "
                        ]
                    },
                    "execution_count": 4,
                    "metadata": {},
                    "output_type": "execute_result"
                }
            ],
            "source": [
                "import pandas as pd\n",
                "\n",
                "url = \"https://en.wikipedia.org/wiki/List_of_Spotify_streaming_records\"\n",
                "tables = pd.read_html(url)\n",
                "\n",
                "df = tables[0]\n",
                "df.head()"
            ]
        },
        {
            "cell_type": "code",
            "execution_count": 5,
            "metadata": {},
            "outputs": [
                {
                    "name": "stdout",
                    "output_type": "stream",
                    "text": [
                        "  Rank                 Song                    Artist  Streams (billions)  \\\n",
                        "0    1    \"Blinding Lights\"                The Weeknd               4.972   \n",
                        "1    2       \"Shape of You\"                Ed Sheeran               4.501   \n",
                        "2    3            \"Starboy\"  The Weeknd and Daft Punk               4.035   \n",
                        "3    4  \"Someone You Loved\"             Lewis Capaldi               4.010   \n",
                        "4    5          \"As It Was\"              Harry Styles               4.000   \n",
                        "\n",
                        "        Release date  \n",
                        "0   29 November 2019  \n",
                        "1     6 January 2017  \n",
                        "2  21 September 2016  \n",
                        "3    8 November 2018  \n",
                        "4       1 April 2022  \n"
                    ]
                },
                {
                    "name": "stderr",
                    "output_type": "stream",
                    "text": [
                        "/tmp/ipykernel_3881/1961503083.py:5: SettingWithCopyWarning: \n",
                        "A value is trying to be set on a copy of a slice from a DataFrame.\n",
                        "Try using .loc[row_indexer,col_indexer] = value instead\n",
                        "\n",
                        "See the caveats in the documentation: https://pandas.pydata.org/pandas-docs/stable/user_guide/indexing.html#returning-a-view-versus-a-copy\n",
                        "  df['Streams (billions)'] = df['Streams (billions)'].astype(float)\n"
                    ]
                }
            ],
            "source": [
                "df.columns = ['Rank', 'Song', 'Artist', 'Streams (billions)', 'Release date', 'Reference']\n",
                "\n",
                "df = df[pd.to_numeric(df['Streams (billions)'], errors='coerce').notnull()]\n",
                "\n",
                "df['Streams (billions)'] = df['Streams (billions)'].astype(float)\n",
                "\n",
                "df = df.drop(columns=['Reference'])\n",
                "\n",
                "print(df.head())"
            ]
        },
        {
            "cell_type": "code",
            "execution_count": 6,
            "metadata": {},
            "outputs": [],
            "source": [
                "import os\n",
                "\n",
                "os.makedirs('db', exist_ok=True)\n"
            ]
        },
        {
            "cell_type": "code",
            "execution_count": 7,
            "metadata": {},
            "outputs": [
                {
                    "name": "stdout",
                    "output_type": "stream",
                    "text": [
                        "  Rank                 Song                    Artist  Streams (billions)  \\\n",
                        "0    1    \"Blinding Lights\"                The Weeknd               4.972   \n",
                        "1    2       \"Shape of You\"                Ed Sheeran               4.501   \n",
                        "2    3            \"Starboy\"  The Weeknd and Daft Punk               4.035   \n",
                        "3    4  \"Someone You Loved\"             Lewis Capaldi               4.010   \n",
                        "4    5          \"As It Was\"              Harry Styles               4.000   \n",
                        "\n",
                        "        Release date  \n",
                        "0   29 November 2019  \n",
                        "1     6 January 2017  \n",
                        "2  21 September 2016  \n",
                        "3    8 November 2018  \n",
                        "4       1 April 2022  \n"
                    ]
                }
            ],
            "source": [
                "import sqlite3\n",
                "\n",
                "conn = sqlite3.connect('db/spotify_streams.db')\n",
                "\n",
                "df.to_sql('most_streamed_songs', conn, if_exists='replace', index=False)\n",
                "\n",
                "result =pd.read_sql('SELECT * FROM most_streamed_songs LIMIT 5;', conn)\n",
                "print(result)"
            ]
        }
    ],
    "metadata": {
        "kernelspec": {
            "display_name": "Python 3",
            "language": "python",
            "name": "python3"
        },
        "language_info": {
            "codemirror_mode": {
                "name": "ipython",
                "version": 3
            },
            "file_extension": ".py",
            "mimetype": "text/x-python",
            "name": "python",
            "nbconvert_exporter": "python",
            "pygments_lexer": "ipython3",
            "version": "3.11.4"
        },
        "orig_nbformat": 4
    },
    "nbformat": 4,
    "nbformat_minor": 2
}
